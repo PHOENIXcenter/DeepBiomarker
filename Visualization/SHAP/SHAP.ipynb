{
 "cells": [
  {
   "cell_type": "code",
   "execution_count": null,
   "metadata": {},
   "outputs": [],
   "source": [
    "import sklearn\n",
    "import shap\n",
    "from sklearn.model_selection import train_test_split\n",
    "import numpy as np\n",
    "import pandas as pd\n",
    "\n",
    "# print the JS visualization code to the notebook\n",
    "shap.initjs()\n",
    "\n",
    "X_train = np.load(\"x_train.npy\")\n",
    "Y_train = np.load(\"y_train.npy\")\n",
    "#X_test = np.load(\"x_test.npy\")\n",
    "#Y_test = np.load(\"y_test.npy\")\n",
    "\n",
    "# train a SVM classifier\n",
    "X_train = pd.DataFrame(X_train)\n",
    "svm = sklearn.svm.SVC(kernel='linear', probability=True)\n",
    "svm.fit(X_train, Y_train)\n",
    "\n",
    "# use Kernel SHAP to explain test set predictions\n",
    "explainer = shap.KernelExplainer(svm.predict_proba, X_train, link=\"logit\")\n",
    "shap_values = explainer.shap_values(X_train, nsamples=\"auto\", l1_reg=\"aic\")\n",
    "\n",
    "# plot the SHAP values for the Setosa output of the first instance\n",
    "#shap.force_plot(explainer.expected_value[0], shap_values[0][0,:], X_train.iloc[0,:], link=\"logit\")\n",
    "shap.force_plot(explainer.expected_value[0], shap_values[0], X_train, link=\"logit\")"
   ]
  }
 ],
 "metadata": {
  "kernelspec": {
   "display_name": "Python 3",
   "language": "python",
   "name": "python3"
  },
  "language_info": {
   "codemirror_mode": {
    "name": "ipython",
    "version": 3
   },
   "file_extension": ".py",
   "mimetype": "text/x-python",
   "name": "python",
   "nbconvert_exporter": "python",
   "pygments_lexer": "ipython3",
   "version": "3.5.2"
  }
 },
 "nbformat": 4,
 "nbformat_minor": 2
}
